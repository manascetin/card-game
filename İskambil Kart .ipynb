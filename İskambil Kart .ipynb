{
 "cells": [
  {
   "cell_type": "code",
   "execution_count": 1,
   "id": "41a0165d",
   "metadata": {},
   "outputs": [],
   "source": [
    "from random import shuffle"
   ]
  },
  {
   "cell_type": "code",
   "execution_count": 2,
   "id": "c66c0a70",
   "metadata": {},
   "outputs": [],
   "source": [
    "class kart:\n",
    "    \n",
    "    def __init__(self , tip , deger):\n",
    "        self.tip = tip\n",
    "        self.deger = deger\n",
    "    \n",
    "    def __repr__(self):\n",
    "        return f\"{self.tip} {self.deger}\""
   ]
  },
  {
   "cell_type": "code",
   "execution_count": 3,
   "id": "f971a4be",
   "metadata": {},
   "outputs": [],
   "source": [
    "class deste:\n",
    "    def __init__(self):\n",
    "        tipler = [\"karo\" , \"kupa\" , \"maça\" , \"sinek\"]\n",
    "        degerler = [\"A\",\"2\",\"3\",\"4\",\"5\",\"6\",\"7\",\"8\",\"9\",\"10\",\"J\",\"K\",\"Q\"]\n",
    "        \n",
    "        self.kartlar = [kart(tip,deger) for tip in tipler for deger in degerler]\n",
    "        \n",
    "    def kartSayisi(self):\n",
    "        return len(self.kartlar)\n",
    "    \n",
    "    def kartlariKaristir(self):\n",
    "        shuffle(self.kartlar)\n",
    "        \n",
    "    def kartlariDagit(self, adet):\n",
    "        kartSayisi = self.kartSayisi()\n",
    "        if kartSayisi == 0:\n",
    "            raise ValueError (\"Bütün Kartlar Dağıtıldı!\")\n",
    "        adet = min([kartSayisi,adet])\n",
    "        kartlar = self.kartlar[-adet:]\n",
    "        self.kartlar = self.kartlar[:-adet]\n",
    "        return kartlar\n",
    "        "
   ]
  },
  {
   "cell_type": "code",
   "execution_count": 4,
   "id": "44ab4f02",
   "metadata": {},
   "outputs": [],
   "source": [
    "deste_1 = deste()\n",
    "\n",
    "deste_1.kartlariKaristir()"
   ]
  },
  {
   "cell_type": "code",
   "execution_count": 5,
   "id": "ea8d7825",
   "metadata": {},
   "outputs": [
    {
     "name": "stdout",
     "output_type": "stream",
     "text": [
      "[sinek 10, maça 10, maça 3, kupa 3, karo 9, maça 2]\n",
      "[karo 6, karo 2, sinek 5, karo J, sinek Q, maça J]\n",
      "[sinek K, kupa 5, kupa 2, kupa 9, maça 9, karo 10]\n",
      "[maça 4, kupa J, kupa 10, maça Q, sinek 2, karo 5]\n"
     ]
    }
   ],
   "source": [
    "print(deste_1.kartlariDagit(6))\n",
    "print(deste_1.kartlariDagit(6))\n",
    "print(deste_1.kartlariDagit(6))\n",
    "print(deste_1.kartlariDagit(6))"
   ]
  },
  {
   "cell_type": "code",
   "execution_count": 6,
   "id": "902c7100",
   "metadata": {},
   "outputs": [
    {
     "name": "stdout",
     "output_type": "stream",
     "text": [
      "28\n"
     ]
    }
   ],
   "source": [
    "print(deste_1.kartSayisi())"
   ]
  },
  {
   "cell_type": "code",
   "execution_count": null,
   "id": "5476eeb9",
   "metadata": {},
   "outputs": [],
   "source": []
  }
 ],
 "metadata": {
  "kernelspec": {
   "display_name": "Python 3 (ipykernel)",
   "language": "python",
   "name": "python3"
  },
  "language_info": {
   "codemirror_mode": {
    "name": "ipython",
    "version": 3
   },
   "file_extension": ".py",
   "mimetype": "text/x-python",
   "name": "python",
   "nbconvert_exporter": "python",
   "pygments_lexer": "ipython3",
   "version": "3.9.7"
  }
 },
 "nbformat": 4,
 "nbformat_minor": 5
}
